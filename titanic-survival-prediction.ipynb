{
 "cells": [
  {
   "cell_type": "markdown",
   "metadata": {},
   "source": [
    "# Predicting survival of the Titanic sinking\n",
    "\n",
    "This notebook is based on the [Data Science Tutorial](https://code.visualstudio.com/docs/datascience/data-science-tutorial) from the [Visual Studio Code documentation](https://code.visualstudio.com/docs). It uses the [Titanic dataset](https://hbiostat.org/data/repo/titanic.html) available on [OpenML.org](https://www.openml.org/d/40945), which is obtained from [Vanderbilt University's Department of Biostatistics](https://hbiostat.org/data/). The Titanic data provides information about the survival of passengers on the Titanic, as well as characteristics about the passengers such as age and ticket class. Using this data, the goal is to establish a model for predicting whether a given passenger would have survived the sinking of the Titanic.\n",
    "\n",
    "## Setup\n",
    "\n",
    "Import modules and set up global variables etc. for the notebook."
   ]
  },
  {
   "cell_type": "code",
   "execution_count": 1,
   "metadata": {},
   "outputs": [],
   "source": [
    "import matplotlib.pyplot as plt\n",
    "import numpy as np\n",
    "import pandas as pd\n",
    "import seaborn as sns\n",
    "\n",
    "from sklearn.model_selection import train_test_split\n",
    "from sklearn.preprocessing import StandardScaler\n",
    "from sklearn.naive_bayes import GaussianNB\n",
    "from sklearn import metrics\n",
    "\n",
    "from keras.models import Sequential\n",
    "from keras.layers import Dense\n",
    "\n",
    "plt.style.use('default')    # set plot style"
   ]
  },
  {
   "cell_type": "markdown",
   "metadata": {},
   "source": [
    "## Preparing the data\n",
    "\n",
    "We load the Titanic into a pandas dataframe and inspect the first few rows. The size of the dataset is about 115 KB small so it's no problem to load the whole dataset to memory."
   ]
  },
  {
   "cell_type": "code",
   "execution_count": 2,
   "metadata": {},
   "outputs": [
    {
     "data": {
      "text/html": [
       "<div>\n",
       "<style scoped>\n",
       "    .dataframe tbody tr th:only-of-type {\n",
       "        vertical-align: middle;\n",
       "    }\n",
       "\n",
       "    .dataframe tbody tr th {\n",
       "        vertical-align: top;\n",
       "    }\n",
       "\n",
       "    .dataframe thead th {\n",
       "        text-align: right;\n",
       "    }\n",
       "</style>\n",
       "<table border=\"1\" class=\"dataframe\">\n",
       "  <thead>\n",
       "    <tr style=\"text-align: right;\">\n",
       "      <th></th>\n",
       "      <th>pclass</th>\n",
       "      <th>survived</th>\n",
       "      <th>name</th>\n",
       "      <th>sex</th>\n",
       "      <th>age</th>\n",
       "      <th>sibsp</th>\n",
       "      <th>parch</th>\n",
       "      <th>ticket</th>\n",
       "      <th>fare</th>\n",
       "      <th>cabin</th>\n",
       "      <th>embarked</th>\n",
       "      <th>boat</th>\n",
       "      <th>body</th>\n",
       "      <th>home.dest</th>\n",
       "    </tr>\n",
       "  </thead>\n",
       "  <tbody>\n",
       "    <tr>\n",
       "      <th>0</th>\n",
       "      <td>1</td>\n",
       "      <td>1</td>\n",
       "      <td>Allen, Miss. Elisabeth Walton</td>\n",
       "      <td>female</td>\n",
       "      <td>29</td>\n",
       "      <td>0</td>\n",
       "      <td>0</td>\n",
       "      <td>24160</td>\n",
       "      <td>211.3375</td>\n",
       "      <td>B5</td>\n",
       "      <td>S</td>\n",
       "      <td>2</td>\n",
       "      <td>?</td>\n",
       "      <td>St Louis, MO</td>\n",
       "    </tr>\n",
       "    <tr>\n",
       "      <th>1</th>\n",
       "      <td>1</td>\n",
       "      <td>1</td>\n",
       "      <td>Allison, Master. Hudson Trevor</td>\n",
       "      <td>male</td>\n",
       "      <td>0.9167</td>\n",
       "      <td>1</td>\n",
       "      <td>2</td>\n",
       "      <td>113781</td>\n",
       "      <td>151.55</td>\n",
       "      <td>C22 C26</td>\n",
       "      <td>S</td>\n",
       "      <td>11</td>\n",
       "      <td>?</td>\n",
       "      <td>Montreal, PQ / Chesterville, ON</td>\n",
       "    </tr>\n",
       "    <tr>\n",
       "      <th>2</th>\n",
       "      <td>1</td>\n",
       "      <td>0</td>\n",
       "      <td>Allison, Miss. Helen Loraine</td>\n",
       "      <td>female</td>\n",
       "      <td>2</td>\n",
       "      <td>1</td>\n",
       "      <td>2</td>\n",
       "      <td>113781</td>\n",
       "      <td>151.55</td>\n",
       "      <td>C22 C26</td>\n",
       "      <td>S</td>\n",
       "      <td>?</td>\n",
       "      <td>?</td>\n",
       "      <td>Montreal, PQ / Chesterville, ON</td>\n",
       "    </tr>\n",
       "    <tr>\n",
       "      <th>3</th>\n",
       "      <td>1</td>\n",
       "      <td>0</td>\n",
       "      <td>Allison, Mr. Hudson Joshua Creighton</td>\n",
       "      <td>male</td>\n",
       "      <td>30</td>\n",
       "      <td>1</td>\n",
       "      <td>2</td>\n",
       "      <td>113781</td>\n",
       "      <td>151.55</td>\n",
       "      <td>C22 C26</td>\n",
       "      <td>S</td>\n",
       "      <td>?</td>\n",
       "      <td>135</td>\n",
       "      <td>Montreal, PQ / Chesterville, ON</td>\n",
       "    </tr>\n",
       "    <tr>\n",
       "      <th>4</th>\n",
       "      <td>1</td>\n",
       "      <td>0</td>\n",
       "      <td>Allison, Mrs. Hudson J C (Bessie Waldo Daniels)</td>\n",
       "      <td>female</td>\n",
       "      <td>25</td>\n",
       "      <td>1</td>\n",
       "      <td>2</td>\n",
       "      <td>113781</td>\n",
       "      <td>151.55</td>\n",
       "      <td>C22 C26</td>\n",
       "      <td>S</td>\n",
       "      <td>?</td>\n",
       "      <td>?</td>\n",
       "      <td>Montreal, PQ / Chesterville, ON</td>\n",
       "    </tr>\n",
       "  </tbody>\n",
       "</table>\n",
       "</div>"
      ],
      "text/plain": [
       "   pclass  survived                                             name     sex  \\\n",
       "0       1         1                    Allen, Miss. Elisabeth Walton  female   \n",
       "1       1         1                   Allison, Master. Hudson Trevor    male   \n",
       "2       1         0                     Allison, Miss. Helen Loraine  female   \n",
       "3       1         0             Allison, Mr. Hudson Joshua Creighton    male   \n",
       "4       1         0  Allison, Mrs. Hudson J C (Bessie Waldo Daniels)  female   \n",
       "\n",
       "      age  sibsp  parch  ticket      fare    cabin embarked boat body  \\\n",
       "0      29      0      0   24160  211.3375       B5        S    2    ?   \n",
       "1  0.9167      1      2  113781    151.55  C22 C26        S   11    ?   \n",
       "2       2      1      2  113781    151.55  C22 C26        S    ?    ?   \n",
       "3      30      1      2  113781    151.55  C22 C26        S    ?  135   \n",
       "4      25      1      2  113781    151.55  C22 C26        S    ?    ?   \n",
       "\n",
       "                         home.dest  \n",
       "0                     St Louis, MO  \n",
       "1  Montreal, PQ / Chesterville, ON  \n",
       "2  Montreal, PQ / Chesterville, ON  \n",
       "3  Montreal, PQ / Chesterville, ON  \n",
       "4  Montreal, PQ / Chesterville, ON  "
      ]
     },
     "execution_count": 2,
     "metadata": {},
     "output_type": "execute_result"
    }
   ],
   "source": [
    "data = pd.read_csv('titanic.csv')\n",
    "data.head(5)"
   ]
  },
  {
   "cell_type": "markdown",
   "metadata": {},
   "source": [
    "Before the data can be graphed, we make sure that there aren't any issues with it. There are some missing values in the data. A question mark (`'?'`) was used to designate cells where data wasn't available. Pandas can read this value into a DataFrame, but the result for a column like `age` is that its data type will be set to `object` instead of a numeric data type, which is problematic for graphing.\n",
    "\n",
    "This problem can be corrected by replacing the question mark with a missing value that pandas is able to understand, the numpy `NaN` value. We also need to update the column's data type after replacing the values."
   ]
  },
  {
   "cell_type": "code",
   "execution_count": 3,
   "metadata": {},
   "outputs": [
    {
     "data": {
      "text/html": [
       "<div>\n",
       "<style scoped>\n",
       "    .dataframe tbody tr th:only-of-type {\n",
       "        vertical-align: middle;\n",
       "    }\n",
       "\n",
       "    .dataframe tbody tr th {\n",
       "        vertical-align: top;\n",
       "    }\n",
       "\n",
       "    .dataframe thead th {\n",
       "        text-align: right;\n",
       "    }\n",
       "</style>\n",
       "<table border=\"1\" class=\"dataframe\">\n",
       "  <thead>\n",
       "    <tr style=\"text-align: right;\">\n",
       "      <th></th>\n",
       "      <th>pclass</th>\n",
       "      <th>survived</th>\n",
       "      <th>name</th>\n",
       "      <th>sex</th>\n",
       "      <th>age</th>\n",
       "      <th>sibsp</th>\n",
       "      <th>parch</th>\n",
       "      <th>ticket</th>\n",
       "      <th>fare</th>\n",
       "      <th>cabin</th>\n",
       "      <th>embarked</th>\n",
       "      <th>boat</th>\n",
       "      <th>body</th>\n",
       "      <th>home.dest</th>\n",
       "    </tr>\n",
       "  </thead>\n",
       "  <tbody>\n",
       "    <tr>\n",
       "      <th>0</th>\n",
       "      <td>1</td>\n",
       "      <td>1</td>\n",
       "      <td>Allen, Miss. Elisabeth Walton</td>\n",
       "      <td>female</td>\n",
       "      <td>29.0000</td>\n",
       "      <td>0</td>\n",
       "      <td>0</td>\n",
       "      <td>24160</td>\n",
       "      <td>211.3375</td>\n",
       "      <td>B5</td>\n",
       "      <td>S</td>\n",
       "      <td>2</td>\n",
       "      <td>NaN</td>\n",
       "      <td>St Louis, MO</td>\n",
       "    </tr>\n",
       "    <tr>\n",
       "      <th>1</th>\n",
       "      <td>1</td>\n",
       "      <td>1</td>\n",
       "      <td>Allison, Master. Hudson Trevor</td>\n",
       "      <td>male</td>\n",
       "      <td>0.9167</td>\n",
       "      <td>1</td>\n",
       "      <td>2</td>\n",
       "      <td>113781</td>\n",
       "      <td>151.5500</td>\n",
       "      <td>C22 C26</td>\n",
       "      <td>S</td>\n",
       "      <td>11</td>\n",
       "      <td>NaN</td>\n",
       "      <td>Montreal, PQ / Chesterville, ON</td>\n",
       "    </tr>\n",
       "    <tr>\n",
       "      <th>2</th>\n",
       "      <td>1</td>\n",
       "      <td>0</td>\n",
       "      <td>Allison, Miss. Helen Loraine</td>\n",
       "      <td>female</td>\n",
       "      <td>2.0000</td>\n",
       "      <td>1</td>\n",
       "      <td>2</td>\n",
       "      <td>113781</td>\n",
       "      <td>151.5500</td>\n",
       "      <td>C22 C26</td>\n",
       "      <td>S</td>\n",
       "      <td>NaN</td>\n",
       "      <td>NaN</td>\n",
       "      <td>Montreal, PQ / Chesterville, ON</td>\n",
       "    </tr>\n",
       "    <tr>\n",
       "      <th>3</th>\n",
       "      <td>1</td>\n",
       "      <td>0</td>\n",
       "      <td>Allison, Mr. Hudson Joshua Creighton</td>\n",
       "      <td>male</td>\n",
       "      <td>30.0000</td>\n",
       "      <td>1</td>\n",
       "      <td>2</td>\n",
       "      <td>113781</td>\n",
       "      <td>151.5500</td>\n",
       "      <td>C22 C26</td>\n",
       "      <td>S</td>\n",
       "      <td>NaN</td>\n",
       "      <td>135</td>\n",
       "      <td>Montreal, PQ / Chesterville, ON</td>\n",
       "    </tr>\n",
       "    <tr>\n",
       "      <th>4</th>\n",
       "      <td>1</td>\n",
       "      <td>0</td>\n",
       "      <td>Allison, Mrs. Hudson J C (Bessie Waldo Daniels)</td>\n",
       "      <td>female</td>\n",
       "      <td>25.0000</td>\n",
       "      <td>1</td>\n",
       "      <td>2</td>\n",
       "      <td>113781</td>\n",
       "      <td>151.5500</td>\n",
       "      <td>C22 C26</td>\n",
       "      <td>S</td>\n",
       "      <td>NaN</td>\n",
       "      <td>NaN</td>\n",
       "      <td>Montreal, PQ / Chesterville, ON</td>\n",
       "    </tr>\n",
       "  </tbody>\n",
       "</table>\n",
       "</div>"
      ],
      "text/plain": [
       "   pclass  survived                                             name     sex  \\\n",
       "0       1         1                    Allen, Miss. Elisabeth Walton  female   \n",
       "1       1         1                   Allison, Master. Hudson Trevor    male   \n",
       "2       1         0                     Allison, Miss. Helen Loraine  female   \n",
       "3       1         0             Allison, Mr. Hudson Joshua Creighton    male   \n",
       "4       1         0  Allison, Mrs. Hudson J C (Bessie Waldo Daniels)  female   \n",
       "\n",
       "       age  sibsp  parch  ticket      fare    cabin embarked boat body  \\\n",
       "0  29.0000      0      0   24160  211.3375       B5        S    2  NaN   \n",
       "1   0.9167      1      2  113781  151.5500  C22 C26        S   11  NaN   \n",
       "2   2.0000      1      2  113781  151.5500  C22 C26        S  NaN  NaN   \n",
       "3  30.0000      1      2  113781  151.5500  C22 C26        S  NaN  135   \n",
       "4  25.0000      1      2  113781  151.5500  C22 C26        S  NaN  NaN   \n",
       "\n",
       "                         home.dest  \n",
       "0                     St Louis, MO  \n",
       "1  Montreal, PQ / Chesterville, ON  \n",
       "2  Montreal, PQ / Chesterville, ON  \n",
       "3  Montreal, PQ / Chesterville, ON  \n",
       "4  Montreal, PQ / Chesterville, ON  "
      ]
     },
     "execution_count": 3,
     "metadata": {},
     "output_type": "execute_result"
    }
   ],
   "source": [
    "data.replace('?', np.nan, inplace= True)\n",
    "data = data.astype({\"age\": np.float64, \"fare\": np.float64})\n",
    "data.head(5)"
   ]
  },
  {
   "cell_type": "markdown",
   "metadata": {},
   "source": [
    "## Analyzing the data\n",
    "\n",
    "Now that the data is in good shape, you can use [seaborn](https://seaborn.pydata.org/) and [matplotlib](https://matplotlib.org/) to view how certain columns of the dataset relate to survivability."
   ]
  },
  {
   "cell_type": "code",
   "execution_count": 4,
   "metadata": {},
   "outputs": [
    {
     "data": {
      "image/png": "[encoded data removed]",
      "text/plain": [
       "<Figure size 1181.1x590.551 with 6 Axes>"
      ]
     },
     "metadata": {},
     "output_type": "display_data"
    }
   ],
   "source": [
    "fig, axs = plt.subplots(nrows=2, ncols=3, figsize=(30/2.54,15/2.54))\n",
    "sns.violinplot(x=\"survived\", y=\"age\", hue=\"sex\", data=data, ax=axs[0, 0])\n",
    "sns.pointplot(x=\"sibsp\", y=\"survived\", hue=\"sex\", data=data, ax=axs[0, 1])\n",
    "sns.pointplot(x=\"parch\", y=\"survived\", hue=\"sex\", data=data, ax=axs[0, 2])\n",
    "sns.pointplot(x=\"pclass\", y=\"survived\", hue=\"sex\", data=data, ax=axs[1, 0])\n",
    "sns.violinplot(x=\"survived\", y=\"fare\", hue=\"sex\", data=data, ax=axs[1, 1])\n",
    "axs[1, 2].axis('off') # hide 6th graph\n",
    "plt.show()"
   ]
  },
  {
   "cell_type": "markdown",
   "metadata": {},
   "source": [
    "These graphs are helpful in seeing some of the relationships between survival and the input variables of the data, but it's also possible to use `pandas` to calculate correlations. To do so, all the variables used need to be numeric for the correlation calculation and currently `gender` is stored as a `string`. We convert it to numeric."
   ]
  },
  {
   "cell_type": "code",
   "execution_count": 5,
   "metadata": {},
   "outputs": [],
   "source": [
    "data.replace({'male': 1, 'female': 0}, inplace=True)"
   ]
  },
  {
   "cell_type": "markdown",
   "metadata": {},
   "source": [
    "Now, we can analyze the correlation between all the input variables to identify the features that would be the best inputs to a machine learning model. The closer a value is to 1, the higher the correlation between the value and the result."
   ]
  },
  {
   "cell_type": "code",
   "execution_count": 6,
   "metadata": {},
   "outputs": [
    {
     "data": {
      "text/html": [
       "<div>\n",
       "<style scoped>\n",
       "    .dataframe tbody tr th:only-of-type {\n",
       "        vertical-align: middle;\n",
       "    }\n",
       "\n",
       "    .dataframe tbody tr th {\n",
       "        vertical-align: top;\n",
       "    }\n",
       "\n",
       "    .dataframe thead th {\n",
       "        text-align: right;\n",
       "    }\n",
       "</style>\n",
       "<table border=\"1\" class=\"dataframe\">\n",
       "  <thead>\n",
       "    <tr style=\"text-align: right;\">\n",
       "      <th></th>\n",
       "      <th>survived</th>\n",
       "    </tr>\n",
       "  </thead>\n",
       "  <tbody>\n",
       "    <tr>\n",
       "      <th>pclass</th>\n",
       "      <td>0.312469</td>\n",
       "    </tr>\n",
       "    <tr>\n",
       "      <th>survived</th>\n",
       "      <td>1.000000</td>\n",
       "    </tr>\n",
       "    <tr>\n",
       "      <th>sex</th>\n",
       "      <td>0.528693</td>\n",
       "    </tr>\n",
       "    <tr>\n",
       "      <th>age</th>\n",
       "      <td>0.055513</td>\n",
       "    </tr>\n",
       "    <tr>\n",
       "      <th>sibsp</th>\n",
       "      <td>0.027825</td>\n",
       "    </tr>\n",
       "    <tr>\n",
       "      <th>parch</th>\n",
       "      <td>0.082660</td>\n",
       "    </tr>\n",
       "    <tr>\n",
       "      <th>fare</th>\n",
       "      <td>0.244265</td>\n",
       "    </tr>\n",
       "  </tbody>\n",
       "</table>\n",
       "</div>"
      ],
      "text/plain": [
       "          survived\n",
       "pclass    0.312469\n",
       "survived  1.000000\n",
       "sex       0.528693\n",
       "age       0.055513\n",
       "sibsp     0.027825\n",
       "parch     0.082660\n",
       "fare      0.244265"
      ]
     },
     "execution_count": 6,
     "metadata": {},
     "output_type": "execute_result"
    }
   ],
   "source": [
    "data.corr().abs()[[\"survived\"]]"
   ]
  },
  {
   "cell_type": "markdown",
   "metadata": {},
   "source": [
    "Looking at the correlation results, we notice that some variables like `gender` have a fairly high correlation to `survival`, while others like relatives (`sibsp` = siblings or spouse, `parch` = parents or children) seem to have little correlation.\n",
    "\n",
    "Let's hypothesize that `sibsp` and `parch` are related in how they affect survivability, and group them into a new column called `relatives` to see whether the combination of them has a higher correlation to survivability. To do this, we check if for a given passenger, the number of sibsp and parch is greater than 0 and, if so, you can then say that they had a relative on board."
   ]
  },
  {
   "cell_type": "code",
   "execution_count": 7,
   "metadata": {},
   "outputs": [
    {
     "data": {
      "text/html": [
       "<div>\n",
       "<style scoped>\n",
       "    .dataframe tbody tr th:only-of-type {\n",
       "        vertical-align: middle;\n",
       "    }\n",
       "\n",
       "    .dataframe tbody tr th {\n",
       "        vertical-align: top;\n",
       "    }\n",
       "\n",
       "    .dataframe thead th {\n",
       "        text-align: right;\n",
       "    }\n",
       "</style>\n",
       "<table border=\"1\" class=\"dataframe\">\n",
       "  <thead>\n",
       "    <tr style=\"text-align: right;\">\n",
       "      <th></th>\n",
       "      <th>survived</th>\n",
       "    </tr>\n",
       "  </thead>\n",
       "  <tbody>\n",
       "    <tr>\n",
       "      <th>pclass</th>\n",
       "      <td>0.312469</td>\n",
       "    </tr>\n",
       "    <tr>\n",
       "      <th>survived</th>\n",
       "      <td>1.000000</td>\n",
       "    </tr>\n",
       "    <tr>\n",
       "      <th>sex</th>\n",
       "      <td>0.528693</td>\n",
       "    </tr>\n",
       "    <tr>\n",
       "      <th>age</th>\n",
       "      <td>0.055513</td>\n",
       "    </tr>\n",
       "    <tr>\n",
       "      <th>sibsp</th>\n",
       "      <td>0.027825</td>\n",
       "    </tr>\n",
       "    <tr>\n",
       "      <th>parch</th>\n",
       "      <td>0.082660</td>\n",
       "    </tr>\n",
       "    <tr>\n",
       "      <th>fare</th>\n",
       "      <td>0.244265</td>\n",
       "    </tr>\n",
       "    <tr>\n",
       "      <th>relatives</th>\n",
       "      <td>0.201719</td>\n",
       "    </tr>\n",
       "  </tbody>\n",
       "</table>\n",
       "</div>"
      ],
      "text/plain": [
       "           survived\n",
       "pclass     0.312469\n",
       "survived   1.000000\n",
       "sex        0.528693\n",
       "age        0.055513\n",
       "sibsp      0.027825\n",
       "parch      0.082660\n",
       "fare       0.244265\n",
       "relatives  0.201719"
      ]
     },
     "execution_count": 7,
     "metadata": {},
     "output_type": "execute_result"
    }
   ],
   "source": [
    "data['relatives'] = data.apply(lambda row: int((row['sibsp'] + row['parch']) > 0), axis=1)\n",
    "data.corr().abs()[[\"survived\"]]"
   ]
  },
  {
   "cell_type": "markdown",
   "metadata": {},
   "source": [
    "In fact when looked at from the standpoint of whether a person had relatives, versus how many relatives, there is a higher correlation with survival. With this information in hand, we can now drop from the dataset the low value `sibsp` and `parch` columns, as well as any rows that had `NaN` values, to end up with a dataset that can be used for training a model. Although `age` has a low direct correlation, it is kept because it seems reasonable that it might still have correlation in conjunction with other inputs."
   ]
  },
  {
   "cell_type": "code",
   "execution_count": 8,
   "metadata": {},
   "outputs": [],
   "source": [
    "data = data[['sex', 'pclass','age','relatives','fare','survived']].dropna()"
   ]
  },
  {
   "cell_type": "markdown",
   "metadata": {},
   "source": [
    "## Training and evaluating a model\n",
    "\n",
    "With the dataset ready, we can now begin creating a model. We use the `scikit-learn` library (as it offers some useful helper functions) to do pre-processing of the dataset, train a classification model to determine survivability on the Titanic, and then use that model with test data to determine its accuracy.\n",
    "\n",
    "A common first step to training a model is to divide up the dataset into training and validation data. This allows you to use a portion of the data to train the model and a portion of the data to test the model. If you used all your data to train the model, you wouldn't have a way to estimate how well it would actually perform against data the model has not yet seen. A benefit of the `scikit-learn` library is that it provides a method specifically for splitting a dataset into training and test data."
   ]
  },
  {
   "cell_type": "code",
   "execution_count": 9,
   "metadata": {},
   "outputs": [],
   "source": [
    "x_train, x_test, y_train, y_test = train_test_split(data[['sex','pclass','age','relatives','fare']], data.survived, test_size=0.2, random_state=0)"
   ]
  },
  {
   "cell_type": "markdown",
   "metadata": {},
   "source": [
    "Next, we normalize the inputs such that all features are treated equally. For example, within the dataset the values for `age` range from `~0-100`, while `gender` is only a `1` or `0`. By normalizing all the variables, we can ensure that the ranges of values are all the same."
   ]
  },
  {
   "cell_type": "code",
   "execution_count": 10,
   "metadata": {},
   "outputs": [],
   "source": [
    "sc = StandardScaler()\n",
    "X_train = sc.fit_transform(x_train)\n",
    "X_test = sc.transform(x_test)"
   ]
  },
  {
   "cell_type": "markdown",
   "metadata": {},
   "source": [
    "### Model based on the Naïve Bayes algorithm\n",
    "\n",
    "There are a number of different machine learning algorithms that we could choose from to model the data and scikit-learn provides support for a number of [them](https://scikit-learn.org/stable/user_guide.html), as well as a [chart](https://scikit-learn.org/stable/tutorial/machine_learning_map/index.html) to help select the one that's right for our scenario. For now, we use the [Naïve Bayes algorithm](https://scikit-learn.org/stable/modules/naive_bayes.html), a common algorithm for classification problems."
   ]
  },
  {
   "cell_type": "code",
   "execution_count": 11,
   "metadata": {},
   "outputs": [
    {
     "data": {
      "text/plain": [
       "GaussianNB()"
      ]
     },
     "execution_count": 11,
     "metadata": {},
     "output_type": "execute_result"
    }
   ],
   "source": [
    "model = GaussianNB()\n",
    "model.fit(X_train, y_train)"
   ]
  },
  {
   "cell_type": "markdown",
   "metadata": {},
   "source": [
    "With a trained model, we can now try it against the test data set that was held back from training. We run the following code to predict the outcome of the test data and calculate the accuracy of the model."
   ]
  },
  {
   "cell_type": "code",
   "execution_count": 12,
   "metadata": {},
   "outputs": [
    {
     "name": "stdout",
     "output_type": "stream",
     "text": [
      "0.7464114832535885\n"
     ]
    }
   ],
   "source": [
    "predict_test = model.predict(X_test)\n",
    "print(metrics.accuracy_score(y_test, predict_test))"
   ]
  },
  {
   "cell_type": "markdown",
   "metadata": {},
   "source": [
    "Looking at the result of the test data, we see that the trained algorithm had a ~75% success rate at estimating survival.\n",
    "\n",
    "### Model based on a neural network\n",
    "\n",
    "We can try to increase accuracy using a neural network. A neural network is a model that uses weights and activation functions, modeling aspects of human neurons, to determine an outcome based on provided inputs. Unlike the machine learning algorithm we used previously, neural networks are a form of deep learning wherein we don't need to know an ideal algorithm for our problem set ahead of time. It can be used for many different scenarios and classification is one of them. For this section, we use the `Keras` library with `TensorFlow` to construct the neural network, and explore how it handles the Titanic dataset.\n",
    "\n",
    "The first step is to import the required libraries and to create the model. In this case, we use a [Sequential](https://keras.io/getting-started/sequential-model-guide/) neural network, which is a layered neural network wherein there are multiple layers that feed into each other in sequence."
   ]
  },
  {
   "cell_type": "code",
   "execution_count": 13,
   "metadata": {},
   "outputs": [],
   "source": [
    "model = Sequential()"
   ]
  },
  {
   "cell_type": "markdown",
   "metadata": {},
   "source": [
    "After defining the model, the next step is to add the layers of the neural network. For now, let's keep things simple and just use three layers."
   ]
  },
  {
   "cell_type": "code",
   "execution_count": 14,
   "metadata": {},
   "outputs": [],
   "source": [
    "model.add(Dense(5, kernel_initializer = 'uniform', activation = 'relu', input_dim = 5))\n",
    "model.add(Dense(5, kernel_initializer = 'uniform', activation = 'relu'))\n",
    "model.add(Dense(1, kernel_initializer = 'uniform', activation = 'sigmoid'))"
   ]
  },
  {
   "cell_type": "markdown",
   "metadata": {},
   "source": [
    "\n",
    "The first layer will be set to have a dimension of 5, since we have 5 inputs: sex, pclass, age, relatives, and fare.\n",
    "The last layer must output 1, since we want a 1-dimensional output indicating whether a passenger would survive.\n",
    "The middle layer was kept at 5 for simplicity, although that value could have been different.\n",
    "\n",
    "The rectified linear unit (relu) activation function is used as a good general activation function for the first two layers, while the sigmoid activation function is required for the final layer as the output we want (of whether a passenger survives or not) needs to be scaled in the range of 0-1 (the probability of a passenger surviving).\n",
    "\n",
    "We can also look at the summary of the model we built:"
   ]
  },
  {
   "cell_type": "code",
   "execution_count": 15,
   "metadata": {},
   "outputs": [
    {
     "name": "stdout",
     "output_type": "stream",
     "text": [
      "Model: \"sequential\"\n",
      "_________________________________________________________________\n",
      " Layer (type)                Output Shape              Param #   \n",
      "=================================================================\n",
      " dense (Dense)               (None, 5)                 30        \n",
      "                                                                 \n",
      " dense_1 (Dense)             (None, 5)                 30        \n",
      "                                                                 \n",
      " dense_2 (Dense)             (None, 1)                 6         \n",
      "                                                                 \n",
      "=================================================================\n",
      "Total params: 66\n",
      "Trainable params: 66\n",
      "Non-trainable params: 0\n",
      "_________________________________________________________________\n"
     ]
    }
   ],
   "source": [
    "model.summary()"
   ]
  },
  {
   "cell_type": "markdown",
   "metadata": {},
   "source": [
    "Once the model is created, it needs to be compiled. As part of this, we need to define what type of optimizer will be used, how loss will be calculated, and what metric should be optimized for. The following code builds and trains the model:"
   ]
  },
  {
   "cell_type": "code",
   "execution_count": 16,
   "metadata": {},
   "outputs": [
    {
     "name": "stdout",
     "output_type": "stream",
     "text": [
      "Epoch 1/50\n",
      "27/27 [==============================] - 0s 731us/step - loss: 0.6924 - accuracy: 0.5885\n",
      "Epoch 2/50\n",
      "27/27 [==============================] - 0s 139us/step - loss: 0.6897 - accuracy: 0.5861\n",
      "Epoch 3/50\n",
      "27/27 [==============================] - 0s 711us/step - loss: 0.6849 - accuracy: 0.5861\n",
      "Epoch 4/50\n",
      "27/27 [==============================] - 0s 41us/step - loss: 0.6751 - accuracy: 0.6579\n",
      "Epoch 5/50\n",
      "27/27 [==============================] - 0s 88us/step - loss: 0.6571 - accuracy: 0.7512\n",
      "Epoch 6/50\n",
      "27/27 [==============================] - 0s 604us/step - loss: 0.6298 - accuracy: 0.7632\n",
      "Epoch 7/50\n",
      "27/27 [==============================] - 0s 127us/step - loss: 0.5975 - accuracy: 0.7703\n",
      "Epoch 8/50\n",
      "27/27 [==============================] - 0s 105us/step - loss: 0.5634 - accuracy: 0.7727\n",
      "Epoch 9/50\n",
      "27/27 [==============================] - 0s 654us/step - loss: 0.5359 - accuracy: 0.7751\n",
      "Epoch 10/50\n",
      "27/27 [==============================] - 0s 615us/step - loss: 0.5125 - accuracy: 0.7763\n",
      "Epoch 11/50\n",
      "27/27 [==============================] - 0s 590us/step - loss: 0.4973 - accuracy: 0.7775\n",
      "Epoch 12/50\n",
      "27/27 [==============================] - 0s 41us/step - loss: 0.4870 - accuracy: 0.7811\n",
      "Epoch 13/50\n",
      "27/27 [==============================] - 0s 156us/step - loss: 0.4793 - accuracy: 0.7775\n",
      "Epoch 14/50\n",
      "27/27 [==============================] - 0s 713us/step - loss: 0.4745 - accuracy: 0.7787\n",
      "Epoch 15/50\n",
      "27/27 [==============================] - 0s 662us/step - loss: 0.4710 - accuracy: 0.7775\n",
      "Epoch 16/50\n",
      "27/27 [==============================] - 0s 159us/step - loss: 0.4674 - accuracy: 0.7751\n",
      "Epoch 17/50\n",
      "27/27 [==============================] - 0s 733us/step - loss: 0.4650 - accuracy: 0.7763\n",
      "Epoch 18/50\n",
      "27/27 [==============================] - 0s 700us/step - loss: 0.4627 - accuracy: 0.7751\n",
      "Epoch 19/50\n",
      "27/27 [==============================] - 0s 716us/step - loss: 0.4604 - accuracy: 0.7775\n",
      "Epoch 20/50\n",
      "27/27 [==============================] - 0s 703us/step - loss: 0.4586 - accuracy: 0.7811\n",
      "Epoch 21/50\n",
      "27/27 [==============================] - 0s 703us/step - loss: 0.4566 - accuracy: 0.7823\n",
      "Epoch 22/50\n",
      "27/27 [==============================] - 0s 606us/step - loss: 0.4554 - accuracy: 0.7799\n",
      "Epoch 23/50\n",
      "27/27 [==============================] - 0s 89us/step - loss: 0.4540 - accuracy: 0.7787\n",
      "Epoch 24/50\n",
      "27/27 [==============================] - 0s 171us/step - loss: 0.4531 - accuracy: 0.7835\n",
      "Epoch 25/50\n",
      "27/27 [==============================] - 0s 41us/step - loss: 0.4525 - accuracy: 0.7835\n",
      "Epoch 26/50\n",
      "27/27 [==============================] - 0s 89us/step - loss: 0.4511 - accuracy: 0.7835\n",
      "Epoch 27/50\n",
      "27/27 [==============================] - 0s 60us/step - loss: 0.4514 - accuracy: 0.7847\n",
      "Epoch 28/50\n",
      "27/27 [==============================] - 0s 105us/step - loss: 0.4502 - accuracy: 0.7835\n",
      "Epoch 29/50\n",
      "27/27 [==============================] - 0s 654us/step - loss: 0.4492 - accuracy: 0.7835\n",
      "Epoch 30/50\n",
      "27/27 [==============================] - 0s 609us/step - loss: 0.4488 - accuracy: 0.7871\n",
      "Epoch 31/50\n",
      "27/27 [==============================] - 0s 251us/step - loss: 0.4480 - accuracy: 0.7835\n",
      "Epoch 32/50\n",
      "27/27 [==============================] - 0s 708us/step - loss: 0.4475 - accuracy: 0.7811\n",
      "Epoch 33/50\n",
      "27/27 [==============================] - 0s 1ms/step - loss: 0.4479 - accuracy: 0.7835\n",
      "Epoch 34/50\n",
      "27/27 [==============================] - 0s 177us/step - loss: 0.4468 - accuracy: 0.7823\n",
      "Epoch 35/50\n",
      "27/27 [==============================] - 0s 129us/step - loss: 0.4463 - accuracy: 0.7787\n",
      "Epoch 36/50\n",
      "27/27 [==============================] - 0s 654us/step - loss: 0.4464 - accuracy: 0.7859\n",
      "Epoch 37/50\n",
      "27/27 [==============================] - 0s 615us/step - loss: 0.4458 - accuracy: 0.7847\n",
      "Epoch 38/50\n",
      "27/27 [==============================] - 0s 607us/step - loss: 0.4459 - accuracy: 0.7871\n",
      "Epoch 39/50\n",
      "27/27 [==============================] - 0s 157us/step - loss: 0.4454 - accuracy: 0.7823\n",
      "Epoch 40/50\n",
      "27/27 [==============================] - 0s 689us/step - loss: 0.4455 - accuracy: 0.7823\n",
      "Epoch 41/50\n",
      "27/27 [==============================] - 0s 712us/step - loss: 0.4452 - accuracy: 0.7847\n",
      "Epoch 42/50\n",
      "27/27 [==============================] - 0s 681us/step - loss: 0.4452 - accuracy: 0.7811\n",
      "Epoch 43/50\n",
      "27/27 [==============================] - 0s 724us/step - loss: 0.4447 - accuracy: 0.7859\n",
      "Epoch 44/50\n",
      "27/27 [==============================] - 0s 795us/step - loss: 0.4445 - accuracy: 0.7907\n",
      "Epoch 45/50\n",
      "27/27 [==============================] - 0s 207us/step - loss: 0.4443 - accuracy: 0.7895\n",
      "Epoch 46/50\n",
      "27/27 [==============================] - 0s 41us/step - loss: 0.4441 - accuracy: 0.7895\n",
      "Epoch 47/50\n",
      "27/27 [==============================] - 0s 136us/step - loss: 0.4449 - accuracy: 0.7907\n",
      "Epoch 48/50\n",
      "27/27 [==============================] - 0s 151us/step - loss: 0.4440 - accuracy: 0.7907\n",
      "Epoch 49/50\n",
      "27/27 [==============================] - 0s 1ms/step - loss: 0.4443 - accuracy: 0.7883\n",
      "Epoch 50/50\n",
      "27/27 [==============================] - 0s 166us/step - loss: 0.4436 - accuracy: 0.7871\n"
     ]
    },
    {
     "data": {
      "text/plain": [
       "<keras.callbacks.History at 0x1c4ce211d30>"
      ]
     },
     "execution_count": 16,
     "metadata": {},
     "output_type": "execute_result"
    }
   ],
   "source": [
    "model.compile(optimizer=\"adam\", loss='binary_crossentropy', metrics=['accuracy'])\n",
    "model.fit(X_train, y_train, batch_size=32, epochs=50)"
   ]
  },
  {
   "cell_type": "markdown",
   "metadata": {},
   "source": [
    "We notice that after training the accuracy is ~80%. With the model built and trained its now time to see how it performs against the test data."
   ]
  },
  {
   "cell_type": "code",
   "execution_count": 17,
   "metadata": {},
   "outputs": [
    {
     "name": "stdout",
     "output_type": "stream",
     "text": [
      "0.7990430622009569\n"
     ]
    }
   ],
   "source": [
    "# model.predict() is deprecated\n",
    "# use np.argmax(model.predict(x), axis=-1) for multi-class classification\n",
    "# use (model.predict(x) > 0.5).astype(\"int32\") for binary classification\n",
    "#y_pred = model.predict(X_test)\n",
    "\n",
    "y_pred = (model.predict(X_test) > 0.5).astype(\"int32\")\n",
    "print(metrics.accuracy_score(y_test, y_pred))"
   ]
  },
  {
   "cell_type": "markdown",
   "metadata": {},
   "source": [
    "Similar to the training, we notice that we were able to get close to 80% accuracy in predicting survival of passengers. This result was better than the 75% accuracy from the Naive Bayes Classifier tried previously."
   ]
  },
  {
   "cell_type": "code",
   "execution_count": 18,
   "metadata": {},
   "outputs": [
    {
     "name": "stdout",
     "output_type": "stream",
     "text": [
      "Predicting a person\n",
      "sex: male\n",
      "passenger class: 0\n",
      "age: 34\n",
      "relatives: 3\n",
      "fare: 10 $\n",
      "Prediction: This person would have survived.\n"
     ]
    }
   ],
   "source": [
    "print(\"\"\"Predicting a person\n",
    "sex: male\n",
    "passenger class: 0\n",
    "age: 34\n",
    "relatives: 3\n",
    "fare: 10 $\"\"\")\n",
    "\n",
    "x_test = pd.DataFrame(\n",
    "    np.array([[1, 0, 33, 3, 10]]),\n",
    "    columns=['sex', 'pclass', 'age','relatives', 'fare']\n",
    ")\n",
    "y_pred = (model.predict(sc.transform(x_test)) > 0.5).astype(\"int32\")\n",
    "if(y_pred[0] == 0):\n",
    "    print(\"Prediction: This person would have died.\")\n",
    "else:\n",
    "    print(\"Prediction: This person would have survived.\")"
   ]
  }
 ],
 "metadata": {
  "interpreter": {
   "hash": "604fcb48c9425dae2babb832e02b3f019b5b5ec1b656ec24ac7d42d555dab13d"
  },
  "kernelspec": {
   "display_name": "Python 3.9.2 64-bit ('.venv': venv)",
   "language": "python",
   "name": "python3"
  },
  "language_info": {
   "codemirror_mode": {
    "name": "ipython",
    "version": 3
   },
   "file_extension": ".py",
   "mimetype": "text/x-python",
   "name": "python",
   "nbconvert_exporter": "python",
   "pygments_lexer": "ipython3",
   "version": "3.9.2"
  },
  "orig_nbformat": 4
 },
 "nbformat": 4,
 "nbformat_minor": 2
}
